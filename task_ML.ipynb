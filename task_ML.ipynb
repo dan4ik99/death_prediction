{
 "cells": [
  {
   "cell_type": "markdown",
   "id": "d5d9f937",
   "metadata": {},
   "source": [
    "### Цель\n",
    "\n",
    "Предсказать летальный исход пациента от сердечной недостаточности"
   ]
  },
  {
   "cell_type": "code",
   "execution_count": 1,
   "id": "59c6764e",
   "metadata": {},
   "outputs": [],
   "source": [
    "import pandas as pd\n",
    "import numpy as np\n",
    "import matplotlib.pyplot as plt\n",
    "from sklearn import metrics\n",
    "from sklearn.model_selection import train_test_split\n",
    "from sklearn.tree import DecisionTreeClassifier\n",
    "from sklearn.neighbors import KNeighborsClassifier # классификация методом ближайших соседей\n",
    "from sklearn.model_selection import GridSearchCV, cross_val_score # поиск наилучших параметров\n",
    "%matplotlib inline"
   ]
  },
  {
   "cell_type": "code",
   "execution_count": 2,
   "id": "ce03da8a",
   "metadata": {},
   "outputs": [],
   "source": [
    "df = pd.read_csv(r'C:\\Современные методы анализа данных\\ML\\итоговый дневник\\dataset.csv')"
   ]
  },
  {
   "cell_type": "code",
   "execution_count": 3,
   "id": "97ad9987",
   "metadata": {},
   "outputs": [
    {
     "data": {
      "text/html": [
       "<div>\n",
       "<style scoped>\n",
       "    .dataframe tbody tr th:only-of-type {\n",
       "        vertical-align: middle;\n",
       "    }\n",
       "\n",
       "    .dataframe tbody tr th {\n",
       "        vertical-align: top;\n",
       "    }\n",
       "\n",
       "    .dataframe thead th {\n",
       "        text-align: right;\n",
       "    }\n",
       "</style>\n",
       "<table border=\"1\" class=\"dataframe\">\n",
       "  <thead>\n",
       "    <tr style=\"text-align: right;\">\n",
       "      <th></th>\n",
       "      <th>age</th>\n",
       "      <th>anaemia</th>\n",
       "      <th>creatinine_phosphokinase</th>\n",
       "      <th>diabetes</th>\n",
       "      <th>ejection_fraction</th>\n",
       "      <th>high_blood_pressure</th>\n",
       "      <th>platelets</th>\n",
       "      <th>serum_creatinine</th>\n",
       "      <th>serum_sodium</th>\n",
       "      <th>sex</th>\n",
       "      <th>smoking</th>\n",
       "      <th>time</th>\n",
       "      <th>DEATH_EVENT</th>\n",
       "    </tr>\n",
       "  </thead>\n",
       "  <tbody>\n",
       "    <tr>\n",
       "      <th>0</th>\n",
       "      <td>75.0</td>\n",
       "      <td>0</td>\n",
       "      <td>582</td>\n",
       "      <td>0</td>\n",
       "      <td>20</td>\n",
       "      <td>1</td>\n",
       "      <td>265000.00</td>\n",
       "      <td>1.9</td>\n",
       "      <td>130</td>\n",
       "      <td>1</td>\n",
       "      <td>0</td>\n",
       "      <td>4</td>\n",
       "      <td>1</td>\n",
       "    </tr>\n",
       "    <tr>\n",
       "      <th>1</th>\n",
       "      <td>55.0</td>\n",
       "      <td>0</td>\n",
       "      <td>7861</td>\n",
       "      <td>0</td>\n",
       "      <td>38</td>\n",
       "      <td>0</td>\n",
       "      <td>263358.03</td>\n",
       "      <td>1.1</td>\n",
       "      <td>136</td>\n",
       "      <td>1</td>\n",
       "      <td>0</td>\n",
       "      <td>6</td>\n",
       "      <td>1</td>\n",
       "    </tr>\n",
       "    <tr>\n",
       "      <th>2</th>\n",
       "      <td>65.0</td>\n",
       "      <td>0</td>\n",
       "      <td>146</td>\n",
       "      <td>0</td>\n",
       "      <td>20</td>\n",
       "      <td>0</td>\n",
       "      <td>162000.00</td>\n",
       "      <td>1.3</td>\n",
       "      <td>129</td>\n",
       "      <td>1</td>\n",
       "      <td>1</td>\n",
       "      <td>7</td>\n",
       "      <td>1</td>\n",
       "    </tr>\n",
       "    <tr>\n",
       "      <th>3</th>\n",
       "      <td>50.0</td>\n",
       "      <td>1</td>\n",
       "      <td>111</td>\n",
       "      <td>0</td>\n",
       "      <td>20</td>\n",
       "      <td>0</td>\n",
       "      <td>210000.00</td>\n",
       "      <td>1.9</td>\n",
       "      <td>137</td>\n",
       "      <td>1</td>\n",
       "      <td>0</td>\n",
       "      <td>7</td>\n",
       "      <td>1</td>\n",
       "    </tr>\n",
       "    <tr>\n",
       "      <th>4</th>\n",
       "      <td>65.0</td>\n",
       "      <td>1</td>\n",
       "      <td>160</td>\n",
       "      <td>1</td>\n",
       "      <td>20</td>\n",
       "      <td>0</td>\n",
       "      <td>327000.00</td>\n",
       "      <td>2.7</td>\n",
       "      <td>116</td>\n",
       "      <td>0</td>\n",
       "      <td>0</td>\n",
       "      <td>8</td>\n",
       "      <td>1</td>\n",
       "    </tr>\n",
       "    <tr>\n",
       "      <th>...</th>\n",
       "      <td>...</td>\n",
       "      <td>...</td>\n",
       "      <td>...</td>\n",
       "      <td>...</td>\n",
       "      <td>...</td>\n",
       "      <td>...</td>\n",
       "      <td>...</td>\n",
       "      <td>...</td>\n",
       "      <td>...</td>\n",
       "      <td>...</td>\n",
       "      <td>...</td>\n",
       "      <td>...</td>\n",
       "      <td>...</td>\n",
       "    </tr>\n",
       "    <tr>\n",
       "      <th>294</th>\n",
       "      <td>62.0</td>\n",
       "      <td>0</td>\n",
       "      <td>61</td>\n",
       "      <td>1</td>\n",
       "      <td>38</td>\n",
       "      <td>1</td>\n",
       "      <td>155000.00</td>\n",
       "      <td>1.1</td>\n",
       "      <td>143</td>\n",
       "      <td>1</td>\n",
       "      <td>1</td>\n",
       "      <td>270</td>\n",
       "      <td>0</td>\n",
       "    </tr>\n",
       "    <tr>\n",
       "      <th>295</th>\n",
       "      <td>55.0</td>\n",
       "      <td>0</td>\n",
       "      <td>1820</td>\n",
       "      <td>0</td>\n",
       "      <td>38</td>\n",
       "      <td>0</td>\n",
       "      <td>270000.00</td>\n",
       "      <td>1.2</td>\n",
       "      <td>139</td>\n",
       "      <td>0</td>\n",
       "      <td>0</td>\n",
       "      <td>271</td>\n",
       "      <td>0</td>\n",
       "    </tr>\n",
       "    <tr>\n",
       "      <th>296</th>\n",
       "      <td>45.0</td>\n",
       "      <td>0</td>\n",
       "      <td>2060</td>\n",
       "      <td>1</td>\n",
       "      <td>60</td>\n",
       "      <td>0</td>\n",
       "      <td>742000.00</td>\n",
       "      <td>0.8</td>\n",
       "      <td>138</td>\n",
       "      <td>0</td>\n",
       "      <td>0</td>\n",
       "      <td>278</td>\n",
       "      <td>0</td>\n",
       "    </tr>\n",
       "    <tr>\n",
       "      <th>297</th>\n",
       "      <td>45.0</td>\n",
       "      <td>0</td>\n",
       "      <td>2413</td>\n",
       "      <td>0</td>\n",
       "      <td>38</td>\n",
       "      <td>0</td>\n",
       "      <td>140000.00</td>\n",
       "      <td>1.4</td>\n",
       "      <td>140</td>\n",
       "      <td>1</td>\n",
       "      <td>1</td>\n",
       "      <td>280</td>\n",
       "      <td>0</td>\n",
       "    </tr>\n",
       "    <tr>\n",
       "      <th>298</th>\n",
       "      <td>50.0</td>\n",
       "      <td>0</td>\n",
       "      <td>196</td>\n",
       "      <td>0</td>\n",
       "      <td>45</td>\n",
       "      <td>0</td>\n",
       "      <td>395000.00</td>\n",
       "      <td>1.6</td>\n",
       "      <td>136</td>\n",
       "      <td>1</td>\n",
       "      <td>1</td>\n",
       "      <td>285</td>\n",
       "      <td>0</td>\n",
       "    </tr>\n",
       "  </tbody>\n",
       "</table>\n",
       "<p>299 rows × 13 columns</p>\n",
       "</div>"
      ],
      "text/plain": [
       "      age  anaemia  creatinine_phosphokinase  diabetes  ejection_fraction  \\\n",
       "0    75.0        0                       582         0                 20   \n",
       "1    55.0        0                      7861         0                 38   \n",
       "2    65.0        0                       146         0                 20   \n",
       "3    50.0        1                       111         0                 20   \n",
       "4    65.0        1                       160         1                 20   \n",
       "..    ...      ...                       ...       ...                ...   \n",
       "294  62.0        0                        61         1                 38   \n",
       "295  55.0        0                      1820         0                 38   \n",
       "296  45.0        0                      2060         1                 60   \n",
       "297  45.0        0                      2413         0                 38   \n",
       "298  50.0        0                       196         0                 45   \n",
       "\n",
       "     high_blood_pressure  platelets  serum_creatinine  serum_sodium  sex  \\\n",
       "0                      1  265000.00               1.9           130    1   \n",
       "1                      0  263358.03               1.1           136    1   \n",
       "2                      0  162000.00               1.3           129    1   \n",
       "3                      0  210000.00               1.9           137    1   \n",
       "4                      0  327000.00               2.7           116    0   \n",
       "..                   ...        ...               ...           ...  ...   \n",
       "294                    1  155000.00               1.1           143    1   \n",
       "295                    0  270000.00               1.2           139    0   \n",
       "296                    0  742000.00               0.8           138    0   \n",
       "297                    0  140000.00               1.4           140    1   \n",
       "298                    0  395000.00               1.6           136    1   \n",
       "\n",
       "     smoking  time  DEATH_EVENT  \n",
       "0          0     4            1  \n",
       "1          0     6            1  \n",
       "2          1     7            1  \n",
       "3          0     7            1  \n",
       "4          0     8            1  \n",
       "..       ...   ...          ...  \n",
       "294        1   270            0  \n",
       "295        0   271            0  \n",
       "296        0   278            0  \n",
       "297        1   280            0  \n",
       "298        1   285            0  \n",
       "\n",
       "[299 rows x 13 columns]"
      ]
     },
     "execution_count": 3,
     "metadata": {},
     "output_type": "execute_result"
    }
   ],
   "source": [
    "df"
   ]
  },
  {
   "cell_type": "code",
   "execution_count": 4,
   "id": "9e2cb20b",
   "metadata": {},
   "outputs": [],
   "source": [
    "X = df.iloc[:, 1:9].values\n",
    "y = df.iloc[:,12].values"
   ]
  },
  {
   "cell_type": "code",
   "execution_count": 5,
   "id": "f73957b6",
   "metadata": {},
   "outputs": [],
   "source": [
    "X_train, X_test, y_train, y_test = train_test_split(X, y, test_size = 0.35, random_state = 0)"
   ]
  },
  {
   "cell_type": "markdown",
   "id": "6468c8d9",
   "metadata": {},
   "source": [
    "#### DecisionTreeClassifier"
   ]
  },
  {
   "cell_type": "code",
   "execution_count": 6,
   "id": "661bd4ef",
   "metadata": {},
   "outputs": [
    {
     "data": {
      "text/plain": [
       "(0.7577319587628866, 0.7428571428571429)"
      ]
     },
     "execution_count": 6,
     "metadata": {},
     "output_type": "execute_result"
    }
   ],
   "source": [
    "#обычное дерево\n",
    "tree = DecisionTreeClassifier(random_state=42, max_depth=2, min_samples_split=35)\n",
    "tree.fit(X_train, y_train)\n",
    "tree.score(X_train, y_train), tree.score(X_test, y_test)"
   ]
  },
  {
   "cell_type": "code",
   "execution_count": 7,
   "id": "c79231a2",
   "metadata": {},
   "outputs": [
    {
     "name": "stdout",
     "output_type": "stream",
     "text": [
      "accuracy_score (tree_test):  0.7428571428571429\n",
      "accuracy_score (tree_train):  0.7577319587628866\n",
      "f1 score (tree_test):  0.42553191489361697\n",
      "f1 score (tree_train):  0.5154639175257733\n"
     ]
    }
   ],
   "source": [
    "#оценка качества модели\n",
    "y_pred_tree = tree.predict(X_test)\n",
    "print('accuracy_score (tree_test): ', metrics.accuracy_score(y_test, y_pred_tree))\n",
    "print('accuracy_score (tree_train): ', metrics.accuracy_score(y_train, tree.predict(X_train)))\n",
    "print('f1 score (tree_test): ', metrics.f1_score(y_test, y_pred_tree))\n",
    "print('f1 score (tree_train): ', metrics.f1_score(y_train, tree.predict(X_train)))"
   ]
  },
  {
   "cell_type": "markdown",
   "id": "c5f0b7a0",
   "metadata": {},
   "source": [
    "Лчшие параметры дерева - 'max_depth': 2, 'min_samples_split': 35."
   ]
  },
  {
   "cell_type": "markdown",
   "id": "2235f9de",
   "metadata": {},
   "source": [
    "Модель, построенная на основе дерева показывает неплохое качество классификации на тренировочной выборке, при этом не теря Score на тестовой выборке."
   ]
  },
  {
   "cell_type": "markdown",
   "id": "f19f0040",
   "metadata": {},
   "source": [
    "#### Классификация методом ближайших соседей"
   ]
  },
  {
   "cell_type": "code",
   "execution_count": 8,
   "id": "05176a17",
   "metadata": {},
   "outputs": [
    {
     "data": {
      "text/plain": [
       "(0.6958762886597938, 0.638095238095238)"
      ]
     },
     "execution_count": 8,
     "metadata": {},
     "output_type": "execute_result"
    }
   ],
   "source": [
    "knn = KNeighborsClassifier(n_neighbors=10)\n",
    "\n",
    "knn.fit(X_train, y_train)\n",
    "knn.score(X_train, y_train), knn.score(X_test, y_test)"
   ]
  },
  {
   "cell_type": "code",
   "execution_count": 9,
   "id": "059d47b7",
   "metadata": {},
   "outputs": [],
   "source": [
    "# подбор наилучших значений параметров модели\n",
    "from sklearn.pipeline import Pipeline\n",
    "from sklearn.preprocessing import StandardScaler\n",
    "\n",
    "knn_pipe = Pipeline([('scaler', StandardScaler()), ('knn', KNeighborsClassifier(n_jobs=-1))])\n",
    "knn_params = {'knn__n_neighbors': range(1, 10)}\n",
    "knn_grid = GridSearchCV(knn_pipe, knn_params,\n",
    "cv=5, n_jobs=-1,\n",
    "verbose=True)"
   ]
  },
  {
   "cell_type": "code",
   "execution_count": 10,
   "id": "b21d00e3",
   "metadata": {},
   "outputs": [
    {
     "name": "stdout",
     "output_type": "stream",
     "text": [
      "Fitting 5 folds for each of 9 candidates, totalling 45 fits\n"
     ]
    },
    {
     "data": {
      "text/plain": [
       "GridSearchCV(cv=5,\n",
       "             estimator=Pipeline(steps=[('scaler', StandardScaler()),\n",
       "                                       ('knn',\n",
       "                                        KNeighborsClassifier(n_jobs=-1))]),\n",
       "             n_jobs=-1, param_grid={'knn__n_neighbors': range(1, 10)},\n",
       "             verbose=True)"
      ]
     },
     "execution_count": 10,
     "metadata": {},
     "output_type": "execute_result"
    }
   ],
   "source": [
    "knn_grid.fit(X_train, y_train)"
   ]
  },
  {
   "cell_type": "code",
   "execution_count": 11,
   "id": "dc32bd20",
   "metadata": {},
   "outputs": [
    {
     "data": {
      "text/plain": [
       "{'knn__n_neighbors': 3}"
      ]
     },
     "execution_count": 11,
     "metadata": {},
     "output_type": "execute_result"
    }
   ],
   "source": [
    "knn_grid.best_params_"
   ]
  },
  {
   "cell_type": "code",
   "execution_count": 12,
   "id": "bde58957",
   "metadata": {},
   "outputs": [
    {
     "data": {
      "text/plain": [
       "(0.7680412371134021, 0.638095238095238)"
      ]
     },
     "execution_count": 12,
     "metadata": {},
     "output_type": "execute_result"
    }
   ],
   "source": [
    "knn2 = KNeighborsClassifier(n_neighbors=3)\n",
    "\n",
    "knn2.fit(X_train, y_train)\n",
    "knn2.score(X_train, y_train), knn.score(X_test, y_test)"
   ]
  },
  {
   "cell_type": "markdown",
   "id": "c0817358",
   "metadata": {},
   "source": [
    "Точность модели значительно проседает на тестовой выборке. Она явно переобучена. Модель построенная на основе дерева лучше решает задачу по сравнению с knn моделью. Различие между тренировочной и тестовой выборками минимальное, при довольно высоком Score. При выставлении параметра n_neighbors = 10, качество тренировочной выборки ниже, но тестовая выборка проседает не так сильно, как в случае со значением параметра равным 3. При построении ансамбля моделей методом Voting буду использовать модель с n_neighbors = 10"
   ]
  },
  {
   "cell_type": "markdown",
   "id": "3c53e6aa",
   "metadata": {},
   "source": [
    "#### Логистическая регрессия"
   ]
  },
  {
   "cell_type": "code",
   "execution_count": 13,
   "id": "1e06d896",
   "metadata": {},
   "outputs": [
    {
     "data": {
      "text/plain": [
       "(0.6907216494845361, 0.6666666666666666)"
      ]
     },
     "execution_count": 13,
     "metadata": {},
     "output_type": "execute_result"
    }
   ],
   "source": [
    "# Логистическая регрессия\n",
    "from sklearn.linear_model import LogisticRegression\n",
    "\n",
    "logreg = LogisticRegression(solver = \"liblinear\")\n",
    "logreg.fit(X_train, y_train)\n",
    "(logreg.score(X_train, y_train), logreg.score(X_test, y_test))"
   ]
  },
  {
   "cell_type": "markdown",
   "id": "7d2da481",
   "metadata": {},
   "source": [
    "Логистическая регрессия имеет лучшее качество классификации на тестовой выборке по сравнению с моделью knn, но она уступает в качестве, модели построенной на основе дерева. "
   ]
  },
  {
   "cell_type": "markdown",
   "id": "dd8d6cfd",
   "metadata": {},
   "source": [
    "#### Сводная таблица по результатам классификации не ансамблевыми моделями"
   ]
  },
  {
   "cell_type": "code",
   "execution_count": 14,
   "id": "0e9045fa",
   "metadata": {},
   "outputs": [
    {
     "data": {
      "text/html": [
       "<div>\n",
       "<style scoped>\n",
       "    .dataframe tbody tr th:only-of-type {\n",
       "        vertical-align: middle;\n",
       "    }\n",
       "\n",
       "    .dataframe tbody tr th {\n",
       "        vertical-align: top;\n",
       "    }\n",
       "\n",
       "    .dataframe thead th {\n",
       "        text-align: right;\n",
       "    }\n",
       "</style>\n",
       "<table border=\"1\" class=\"dataframe\">\n",
       "  <thead>\n",
       "    <tr style=\"text-align: right;\">\n",
       "      <th></th>\n",
       "      <th>model</th>\n",
       "      <th>score_train</th>\n",
       "      <th>score_test</th>\n",
       "    </tr>\n",
       "  </thead>\n",
       "  <tbody>\n",
       "    <tr>\n",
       "      <th>0</th>\n",
       "      <td>Tree</td>\n",
       "      <td>0.757732</td>\n",
       "      <td>0.742857</td>\n",
       "    </tr>\n",
       "    <tr>\n",
       "      <th>1</th>\n",
       "      <td>KNeighbors</td>\n",
       "      <td>0.695876</td>\n",
       "      <td>0.638095</td>\n",
       "    </tr>\n",
       "    <tr>\n",
       "      <th>2</th>\n",
       "      <td>log_reg</td>\n",
       "      <td>0.690722</td>\n",
       "      <td>0.666667</td>\n",
       "    </tr>\n",
       "  </tbody>\n",
       "</table>\n",
       "</div>"
      ],
      "text/plain": [
       "        model  score_train  score_test\n",
       "0        Tree     0.757732    0.742857\n",
       "1  KNeighbors     0.695876    0.638095\n",
       "2     log_reg     0.690722    0.666667"
      ]
     },
     "execution_count": 14,
     "metadata": {},
     "output_type": "execute_result"
    }
   ],
   "source": [
    "frame = pd.DataFrame()\n",
    "new_line = [{'model':'Tree', 'score_train':0.7577319587628866, 'score_test':0.7428571428571429}, \n",
    "            {'model':'KNeighbors', 'score_train':0.6958762886597938, 'score_test':0.638095238095238},\n",
    "            {'model':'log_reg', 'score_train':0.6907216494845361, 'score_test':0.6666666666666666}]\n",
    "frame = frame.append(new_line, ignore_index=True)\n",
    "frame"
   ]
  },
  {
   "cell_type": "markdown",
   "id": "2c11d128",
   "metadata": {},
   "source": [
    "Наиучший результат показала модель, построенная на основе дерева (параметры: max_depth - 6, max_features - 2)."
   ]
  },
  {
   "cell_type": "code",
   "execution_count": 15,
   "id": "5ed9eca9",
   "metadata": {},
   "outputs": [
    {
     "name": "stdout",
     "output_type": "stream",
     "text": [
      "model              Tree\n",
      "score_train    0.757732\n",
      "score_test     0.742857\n",
      "Name: 0, dtype: object\n"
     ]
    }
   ],
   "source": [
    "print(frame.iloc[0,])"
   ]
  },
  {
   "cell_type": "markdown",
   "id": "f6076c9e",
   "metadata": {},
   "source": [
    "#### Voting"
   ]
  },
  {
   "cell_type": "code",
   "execution_count": 16,
   "id": "333a6df4",
   "metadata": {},
   "outputs": [
    {
     "data": {
      "text/plain": [
       "(0.6907216494845361, 0.6952380952380952)"
      ]
     },
     "execution_count": 16,
     "metadata": {},
     "output_type": "execute_result"
    }
   ],
   "source": [
    "from sklearn.ensemble import VotingClassifier\n",
    "modelVote = VotingClassifier(estimators=[('lr', logreg), ('dt', tree), ('KNeighbors', knn)], voting='hard')\n",
    "modelVote.fit(X_train,y_train)\n",
    "modelVote.score(X_train,y_train), modelVote.score(X_test,y_test)"
   ]
  },
  {
   "cell_type": "markdown",
   "id": "75c7a96a",
   "metadata": {},
   "source": [
    "## RandomForest"
   ]
  },
  {
   "cell_type": "markdown",
   "id": "d8370e22",
   "metadata": {},
   "source": [
    "#### RandomForest (1)"
   ]
  },
  {
   "cell_type": "code",
   "execution_count": 17,
   "id": "a2dd2229",
   "metadata": {},
   "outputs": [
    {
     "data": {
      "text/plain": [
       "(0.7938144329896907, 0.7714285714285715)"
      ]
     },
     "execution_count": 17,
     "metadata": {},
     "output_type": "execute_result"
    }
   ],
   "source": [
    "from sklearn.ensemble import RandomForestClassifier\n",
    "modelRF = RandomForestClassifier(n_estimators=100, \n",
    "                                 max_features=4, \n",
    "                                 max_depth=2,  \n",
    "                                 min_samples_leaf=10, \n",
    "                                 min_samples_split=30, \n",
    "                                 random_state=42)\n",
    "modelRF.fit(X_train, y_train)\n",
    "modelRF.score(X_train, y_train), modelRF.score(X_test, y_test)"
   ]
  },
  {
   "cell_type": "markdown",
   "id": "87719efa",
   "metadata": {},
   "source": [
    "#### RandomForest (2)"
   ]
  },
  {
   "cell_type": "code",
   "execution_count": 18,
   "id": "65fd8a33",
   "metadata": {},
   "outputs": [],
   "source": [
    "forest_params = {'max_depth': range(1,11),\n",
    "'max_features': range(2,9)}\n",
    "\n",
    "forest_grid = GridSearchCV(modelRF, forest_params,\n",
    "cv=5, n_jobs=-1,\n",
    "verbose=True)"
   ]
  },
  {
   "cell_type": "code",
   "execution_count": 19,
   "id": "9048bc6e",
   "metadata": {},
   "outputs": [
    {
     "name": "stdout",
     "output_type": "stream",
     "text": [
      "Fitting 5 folds for each of 70 candidates, totalling 350 fits\n"
     ]
    },
    {
     "data": {
      "text/plain": [
       "GridSearchCV(cv=5,\n",
       "             estimator=RandomForestClassifier(max_depth=2, max_features=4,\n",
       "                                              min_samples_leaf=10,\n",
       "                                              min_samples_split=30,\n",
       "                                              random_state=42),\n",
       "             n_jobs=-1,\n",
       "             param_grid={'max_depth': range(1, 11),\n",
       "                         'max_features': range(2, 9)},\n",
       "             verbose=True)"
      ]
     },
     "execution_count": 19,
     "metadata": {},
     "output_type": "execute_result"
    }
   ],
   "source": [
    "forest_grid.fit(X_train, y_train)"
   ]
  },
  {
   "cell_type": "code",
   "execution_count": 20,
   "id": "5a6dbf2c",
   "metadata": {},
   "outputs": [
    {
     "data": {
      "text/plain": [
       "{'max_depth': 3, 'max_features': 3}"
      ]
     },
     "execution_count": 20,
     "metadata": {},
     "output_type": "execute_result"
    }
   ],
   "source": [
    "forest_grid.best_params_"
   ]
  },
  {
   "cell_type": "code",
   "execution_count": 21,
   "id": "cf3e5bea",
   "metadata": {},
   "outputs": [
    {
     "data": {
      "text/plain": [
       "(0.7989690721649485, 0.7523809523809524)"
      ]
     },
     "execution_count": 21,
     "metadata": {},
     "output_type": "execute_result"
    }
   ],
   "source": [
    "forest_grid.score(X_train, y_train), forest_grid.score(X_test, y_test)"
   ]
  },
  {
   "cell_type": "markdown",
   "id": "20ce2089",
   "metadata": {},
   "source": [
    "Две модели RandomForest имеют одинаковое качество классификации на обучающей выборке, но качество классификации на тестовой выборке лучше в первой модели. При выборе лучшей модели из 2 вариантов, я бы остановился на первой. Если сравнивать RandomForest и Voting, то я выберу RandomForest. У модели лучше качество, а разница в точности между тестовой и обучающей выборками не является критичной."
   ]
  },
  {
   "cell_type": "markdown",
   "id": "c067bfcd",
   "metadata": {},
   "source": [
    "#### RandomForest (1)"
   ]
  },
  {
   "cell_type": "code",
   "execution_count": 22,
   "id": "e97fa01a",
   "metadata": {},
   "outputs": [
    {
     "name": "stdout",
     "output_type": "stream",
     "text": [
      "train               precision    recall  f1-score   support\n",
      "\n",
      "           0       0.79      0.95      0.86       131\n",
      "           1       0.83      0.46      0.59        63\n",
      "\n",
      "    accuracy                           0.79       194\n",
      "   macro avg       0.81      0.71      0.73       194\n",
      "weighted avg       0.80      0.79      0.77       194\n",
      "\n",
      "test               precision    recall  f1-score   support\n",
      "\n",
      "           0       0.77      0.96      0.85        72\n",
      "           1       0.80      0.36      0.50        33\n",
      "\n",
      "    accuracy                           0.77       105\n",
      "   macro avg       0.78      0.66      0.68       105\n",
      "weighted avg       0.78      0.77      0.74       105\n",
      "\n",
      "accuracy_score (tree_train):  0.7577319587628866\n",
      "accuracy_score (tree_test):  0.7428571428571429\n",
      "f1 score (tree_train):  0.5154639175257733\n",
      "f1 score (tree_test):  0.42553191489361697\n"
     ]
    }
   ],
   "source": [
    "from sklearn.metrics import classification_report\n",
    "print('train', classification_report(y_train, modelRF.predict(X_train)))\n",
    "print('test', classification_report(y_test, modelRF.predict(X_test)))\n",
    "\n",
    "print('accuracy_score (tree_train): ', metrics.accuracy_score(y_train, tree.predict(X_train)))\n",
    "print('accuracy_score (tree_test): ', metrics.accuracy_score(y_test, y_pred_tree))\n",
    "print('f1 score (tree_train): ', metrics.f1_score(y_train, tree.predict(X_train)))\n",
    "print('f1 score (tree_test): ', metrics.f1_score(y_test, y_pred_tree))"
   ]
  },
  {
   "cell_type": "markdown",
   "id": "85b133da",
   "metadata": {},
   "source": [
    "Метрики качества модели RandomForest (1) в сравнении с метриками не ансамблевой модели (tree) лучше. Попробую посмотреть какие переменные в модели имеют наибольший вес и оставлю только две наиболее значимые. И на основе них построю новую модель."
   ]
  },
  {
   "cell_type": "code",
   "execution_count": 23,
   "id": "c27416d6",
   "metadata": {},
   "outputs": [
    {
     "data": {
      "text/html": [
       "<div>\n",
       "<style scoped>\n",
       "    .dataframe tbody tr th:only-of-type {\n",
       "        vertical-align: middle;\n",
       "    }\n",
       "\n",
       "    .dataframe tbody tr th {\n",
       "        vertical-align: top;\n",
       "    }\n",
       "\n",
       "    .dataframe thead th {\n",
       "        text-align: right;\n",
       "    }\n",
       "</style>\n",
       "<table border=\"1\" class=\"dataframe\">\n",
       "  <thead>\n",
       "    <tr style=\"text-align: right;\">\n",
       "      <th></th>\n",
       "      <th>feature</th>\n",
       "      <th>importance</th>\n",
       "    </tr>\n",
       "  </thead>\n",
       "  <tbody>\n",
       "    <tr>\n",
       "      <th>6</th>\n",
       "      <td>serum_creatinine</td>\n",
       "      <td>0.434690</td>\n",
       "    </tr>\n",
       "    <tr>\n",
       "      <th>3</th>\n",
       "      <td>ejection_fraction</td>\n",
       "      <td>0.333136</td>\n",
       "    </tr>\n",
       "    <tr>\n",
       "      <th>7</th>\n",
       "      <td>serum_sodium</td>\n",
       "      <td>0.117770</td>\n",
       "    </tr>\n",
       "    <tr>\n",
       "      <th>5</th>\n",
       "      <td>platelets</td>\n",
       "      <td>0.059933</td>\n",
       "    </tr>\n",
       "    <tr>\n",
       "      <th>1</th>\n",
       "      <td>creatinine_phosphokinase</td>\n",
       "      <td>0.041774</td>\n",
       "    </tr>\n",
       "    <tr>\n",
       "      <th>2</th>\n",
       "      <td>diabetes</td>\n",
       "      <td>0.005113</td>\n",
       "    </tr>\n",
       "    <tr>\n",
       "      <th>0</th>\n",
       "      <td>anaemia</td>\n",
       "      <td>0.004168</td>\n",
       "    </tr>\n",
       "    <tr>\n",
       "      <th>4</th>\n",
       "      <td>high_blood_pressure</td>\n",
       "      <td>0.003416</td>\n",
       "    </tr>\n",
       "  </tbody>\n",
       "</table>\n",
       "</div>"
      ],
      "text/plain": [
       "                    feature  importance\n",
       "6          serum_creatinine    0.434690\n",
       "3         ejection_fraction    0.333136\n",
       "7              serum_sodium    0.117770\n",
       "5                 platelets    0.059933\n",
       "1  creatinine_phosphokinase    0.041774\n",
       "2                  diabetes    0.005113\n",
       "0                   anaemia    0.004168\n",
       "4       high_blood_pressure    0.003416"
      ]
     },
     "execution_count": 23,
     "metadata": {},
     "output_type": "execute_result"
    }
   ],
   "source": [
    "X_columns = df.iloc[:, 1:9]\n",
    "pd.DataFrame({'feature': X_columns.columns,\n",
    "              'importance': modelRF.feature_importances_}).sort_values('importance', ascending=False)"
   ]
  },
  {
   "cell_type": "markdown",
   "id": "fab69cdb",
   "metadata": {},
   "source": [
    "Наиболее значимыми переменными в модели оказались serum_creatinine, ejection_fraction. Они дают наибольший вклад. Эти показатели анализа крови являются очень важными и по их значениям можно понять, есть ли у человека сердечно-сосудистые заболевания или нет."
   ]
  },
  {
   "cell_type": "markdown",
   "id": "dc03a8df",
   "metadata": {},
   "source": [
    "Попробую разделить людей на максимально отличающиеся подгруппы по бинарной переменной (летальный исход от сердечной недостаточности) методом Subgroup Discovery. Должны получиться группы, у которых ярко выражены 1-2 переменные (условия в SubgroupDiscoveryTask). Условия должны содержать переменные serum_creatinine и/или ejection_fraction."
   ]
  },
  {
   "cell_type": "code",
   "execution_count": 24,
   "id": "36deee89",
   "metadata": {},
   "outputs": [
    {
     "name": "stderr",
     "output_type": "stream",
     "text": [
      "C:\\Users\\miste\\AppData\\Local\\Temp/ipykernel_13172/3605305602.py:18: FutureWarning: Could not cast to float64, falling back to object. This behavior is deprecated. In a future version, when a dtype is passed to 'DataFrame', either all columns will be cast to that dtype, or a TypeError will be raised\n",
      "  result.to_dataframe()\n"
     ]
    },
    {
     "data": {
      "text/html": [
       "<div>\n",
       "<style scoped>\n",
       "    .dataframe tbody tr th:only-of-type {\n",
       "        vertical-align: middle;\n",
       "    }\n",
       "\n",
       "    .dataframe tbody tr th {\n",
       "        vertical-align: top;\n",
       "    }\n",
       "\n",
       "    .dataframe thead th {\n",
       "        text-align: right;\n",
       "    }\n",
       "</style>\n",
       "<table border=\"1\" class=\"dataframe\">\n",
       "  <thead>\n",
       "    <tr style=\"text-align: right;\">\n",
       "      <th></th>\n",
       "      <th>quality</th>\n",
       "      <th>subgroup</th>\n",
       "      <th>size_sg</th>\n",
       "      <th>size_dataset</th>\n",
       "      <th>positives_sg</th>\n",
       "      <th>positives_dataset</th>\n",
       "      <th>size_complement</th>\n",
       "      <th>relative_size_sg</th>\n",
       "      <th>relative_size_complement</th>\n",
       "      <th>coverage_sg</th>\n",
       "      <th>coverage_complement</th>\n",
       "      <th>target_share_sg</th>\n",
       "      <th>target_share_complement</th>\n",
       "      <th>target_share_dataset</th>\n",
       "      <th>lift</th>\n",
       "    </tr>\n",
       "  </thead>\n",
       "  <tbody>\n",
       "    <tr>\n",
       "      <th>0</th>\n",
       "      <td>0.068277</td>\n",
       "      <td>serum_creatinine&gt;=1.70</td>\n",
       "      <td>61.0</td>\n",
       "      <td>299.0</td>\n",
       "      <td>40.0</td>\n",
       "      <td>96.0</td>\n",
       "      <td>238.0</td>\n",
       "      <td>0.204013</td>\n",
       "      <td>0.795987</td>\n",
       "      <td>0.416667</td>\n",
       "      <td>0.583333</td>\n",
       "      <td>0.655738</td>\n",
       "      <td>0.235294</td>\n",
       "      <td>0.32107</td>\n",
       "      <td>2.042350</td>\n",
       "    </tr>\n",
       "    <tr>\n",
       "      <th>1</th>\n",
       "      <td>0.063735</td>\n",
       "      <td>ejection_fraction&lt;30</td>\n",
       "      <td>59.0</td>\n",
       "      <td>299.0</td>\n",
       "      <td>38.0</td>\n",
       "      <td>96.0</td>\n",
       "      <td>240.0</td>\n",
       "      <td>0.197324</td>\n",
       "      <td>0.802676</td>\n",
       "      <td>0.395833</td>\n",
       "      <td>0.604167</td>\n",
       "      <td>0.644068</td>\n",
       "      <td>0.241667</td>\n",
       "      <td>0.32107</td>\n",
       "      <td>2.006003</td>\n",
       "    </tr>\n",
       "    <tr>\n",
       "      <th>2</th>\n",
       "      <td>0.042807</td>\n",
       "      <td>diabetes==0 AND ejection_fraction&lt;30</td>\n",
       "      <td>38.0</td>\n",
       "      <td>299.0</td>\n",
       "      <td>25.0</td>\n",
       "      <td>96.0</td>\n",
       "      <td>261.0</td>\n",
       "      <td>0.127090</td>\n",
       "      <td>0.872910</td>\n",
       "      <td>0.260417</td>\n",
       "      <td>0.739583</td>\n",
       "      <td>0.657895</td>\n",
       "      <td>0.272031</td>\n",
       "      <td>0.32107</td>\n",
       "      <td>2.049068</td>\n",
       "    </tr>\n",
       "    <tr>\n",
       "      <th>3</th>\n",
       "      <td>0.042807</td>\n",
       "      <td>diabetes==0 AND serum_creatinine&gt;=1.70</td>\n",
       "      <td>38.0</td>\n",
       "      <td>299.0</td>\n",
       "      <td>25.0</td>\n",
       "      <td>96.0</td>\n",
       "      <td>261.0</td>\n",
       "      <td>0.127090</td>\n",
       "      <td>0.872910</td>\n",
       "      <td>0.260417</td>\n",
       "      <td>0.739583</td>\n",
       "      <td>0.657895</td>\n",
       "      <td>0.272031</td>\n",
       "      <td>0.32107</td>\n",
       "      <td>2.049068</td>\n",
       "    </tr>\n",
       "    <tr>\n",
       "      <th>4</th>\n",
       "      <td>0.038266</td>\n",
       "      <td>anaemia==0 AND serum_creatinine&gt;=1.70</td>\n",
       "      <td>36.0</td>\n",
       "      <td>299.0</td>\n",
       "      <td>23.0</td>\n",
       "      <td>96.0</td>\n",
       "      <td>263.0</td>\n",
       "      <td>0.120401</td>\n",
       "      <td>0.879599</td>\n",
       "      <td>0.239583</td>\n",
       "      <td>0.760417</td>\n",
       "      <td>0.638889</td>\n",
       "      <td>0.277567</td>\n",
       "      <td>0.32107</td>\n",
       "      <td>1.989873</td>\n",
       "    </tr>\n",
       "  </tbody>\n",
       "</table>\n",
       "</div>"
      ],
      "text/plain": [
       "    quality                                subgroup  size_sg  size_dataset  \\\n",
       "0  0.068277                  serum_creatinine>=1.70     61.0         299.0   \n",
       "1  0.063735                    ejection_fraction<30     59.0         299.0   \n",
       "2  0.042807    diabetes==0 AND ejection_fraction<30     38.0         299.0   \n",
       "3  0.042807  diabetes==0 AND serum_creatinine>=1.70     38.0         299.0   \n",
       "4  0.038266   anaemia==0 AND serum_creatinine>=1.70     36.0         299.0   \n",
       "\n",
       "   positives_sg  positives_dataset  size_complement  relative_size_sg  \\\n",
       "0          40.0               96.0            238.0          0.204013   \n",
       "1          38.0               96.0            240.0          0.197324   \n",
       "2          25.0               96.0            261.0          0.127090   \n",
       "3          25.0               96.0            261.0          0.127090   \n",
       "4          23.0               96.0            263.0          0.120401   \n",
       "\n",
       "   relative_size_complement  coverage_sg  coverage_complement  \\\n",
       "0                  0.795987     0.416667             0.583333   \n",
       "1                  0.802676     0.395833             0.604167   \n",
       "2                  0.872910     0.260417             0.739583   \n",
       "3                  0.872910     0.260417             0.739583   \n",
       "4                  0.879599     0.239583             0.760417   \n",
       "\n",
       "   target_share_sg  target_share_complement  target_share_dataset      lift  \n",
       "0         0.655738                 0.235294               0.32107  2.042350  \n",
       "1         0.644068                 0.241667               0.32107  2.006003  \n",
       "2         0.657895                 0.272031               0.32107  2.049068  \n",
       "3         0.657895                 0.272031               0.32107  2.049068  \n",
       "4         0.638889                 0.277567               0.32107  1.989873  "
      ]
     },
     "execution_count": 24,
     "metadata": {},
     "output_type": "execute_result"
    }
   ],
   "source": [
    "import pysubgroup as ps\n",
    "\n",
    "df = df.drop(columns=['age', 'sex', 'smoking', 'time'])\n",
    "\n",
    "target = ps.BinaryTarget(\"DEATH_EVENT\", True) # Целевая переменная - бинарная\n",
    "searchspace = ps.create_selectors(df, ignore=['DEATH_EVENT'])\n",
    "\n",
    "task = ps.SubgroupDiscoveryTask (\n",
    "    df,\n",
    "    target,\n",
    "    searchspace,\n",
    "    result_set_size=5,# 5 different groups\n",
    "    depth=2, # max условий\n",
    "    qf=ps.WRAccQF() # Выбрал метрику качества Weighted Relative Accuracy\n",
    ")\n",
    "\n",
    "result = ps.BeamSearch().execute(task) # Поиск подгрупп происходит методом BeamSearch\n",
    "result.to_dataframe()"
   ]
  },
  {
   "cell_type": "markdown",
   "id": "4f165b3d",
   "metadata": {},
   "source": [
    "Лица у которых креатинин в крови больше 1.7, подвержены риску смерти от сердечной недостаточности (они умирают в 65% случаев). Люди со значением фракции выброса сердца меньше 30 тоже выделены в отдельную подгруппу и имеют показатель смертности 64%. В остальных 3 подгруппах также содержатся люди у которых значения креатинина в сыворотке крови и уровень фракции выброса сердца отклоняются от нормальных значений. У 3 и 4 подгруппы показатель смертности составляет 66%, а у 5 подгруппы 64%. Во всех подгруппах содержатся переменные, которые имели наибольший вес в модели RandomForest - serum_creatinine и ejection_fraction. Значит их влияние в модели и в действительности (на данных пациентов) очень велико."
   ]
  },
  {
   "cell_type": "markdown",
   "id": "2dd890dd",
   "metadata": {},
   "source": [
    "Исследуем динамику изменения для второй по значимости переменной модели RandomForest - ejection_fraction"
   ]
  },
  {
   "cell_type": "code",
   "execution_count": 25,
   "id": "c868cb7c",
   "metadata": {},
   "outputs": [],
   "source": [
    "from pycebox.ice import ice, ice_plot\n",
    "X_train_df = pd.DataFrame(X_train, columns=list(X_columns.columns))\n",
    "\n",
    "def predict_new(X):\n",
    "    return modelRF.predict_proba(X)[:,1]\n",
    "\n",
    "BMIbag = ice(data=X_train_df, column='ejection_fraction', \n",
    "                   predict=predict_new) "
   ]
  },
  {
   "cell_type": "code",
   "execution_count": 26,
   "id": "e684525b",
   "metadata": {},
   "outputs": [
    {
     "data": {
      "image/png": "[encoded data removed]",
      "text/plain": [
       "<Figure size 432x288 with 1 Axes>"
      ]
     },
     "metadata": {
      "needs_background": "light"
     },
     "output_type": "display_data"
    }
   ],
   "source": [
    "ice_plot(BMIbag, c='red', linewidth=0.3, plot_pdp=True)\n",
    "plt.ylabel('Predicted')\n",
    "plt.xlabel('ejection_fraction');"
   ]
  },
  {
   "cell_type": "markdown",
   "id": "84415624",
   "metadata": {},
   "source": [
    "В среднем, модель показывает, что чем больше значение фракции выброса сердца, тем ниже вероятность летального исхода от сердечной недостаточности. Это соотносится с реальностью."
   ]
  },
  {
   "cell_type": "markdown",
   "id": "3a58b2d6",
   "metadata": {},
   "source": [
    "Построим 3 модель RandomForest, где оставим только 2 зависимые переменные - serum_creatinine и ejection_fraction. "
   ]
  },
  {
   "cell_type": "markdown",
   "id": "da924835",
   "metadata": {},
   "source": [
    "#### RandomForest (3)"
   ]
  },
  {
   "cell_type": "code",
   "execution_count": 27,
   "id": "11922605",
   "metadata": {},
   "outputs": [],
   "source": [
    "df2 = pd.read_csv(r'C:\\Современные методы анализа данных\\ML\\итоговый дневник\\dataset.csv')\n",
    "X2 = df2[['serum_creatinine', 'ejection_fraction']].values\n",
    "y2 = df2.iloc[:,12].values\n",
    "\n",
    "X_train2, X_test2, y_train2, y_test2 = train_test_split(X2, y2, test_size = 0.35, random_state = 0)"
   ]
  },
  {
   "cell_type": "code",
   "execution_count": 28,
   "id": "eee4d15e",
   "metadata": {},
   "outputs": [
    {
     "data": {
      "text/plain": [
       "RandomForestClassifier(max_depth=2, max_features=2, min_samples_leaf=10,\n",
       "                       min_samples_split=30, random_state=2)"
      ]
     },
     "execution_count": 28,
     "metadata": {},
     "output_type": "execute_result"
    }
   ],
   "source": [
    "from sklearn.ensemble import RandomForestClassifier\n",
    "modelRF = RandomForestClassifier(n_estimators=100, \n",
    "                                 max_features=2, \n",
    "                                 max_depth=2,  \n",
    "                                 min_samples_leaf=10, \n",
    "                                 min_samples_split=30, \n",
    "                                 random_state=2)\n",
    "modelRF.fit(X_train2, y_train2)"
   ]
  },
  {
   "cell_type": "code",
   "execution_count": 29,
   "id": "42c8b5e9",
   "metadata": {
    "scrolled": true
   },
   "outputs": [
    {
     "name": "stdout",
     "output_type": "stream",
     "text": [
      "train               precision    recall  f1-score   support\n",
      "\n",
      "           0       0.80      0.89      0.84       131\n",
      "           1       0.69      0.54      0.61        63\n",
      "\n",
      "    accuracy                           0.77       194\n",
      "   macro avg       0.75      0.71      0.72       194\n",
      "weighted avg       0.77      0.77      0.76       194\n",
      "\n",
      "test               precision    recall  f1-score   support\n",
      "\n",
      "           0       0.80      0.89      0.84        72\n",
      "           1       0.68      0.52      0.59        33\n",
      "\n",
      "    accuracy                           0.77       105\n",
      "   macro avg       0.74      0.70      0.71       105\n",
      "weighted avg       0.76      0.77      0.76       105\n",
      "\n"
     ]
    }
   ],
   "source": [
    "print('train', classification_report(y_train2, modelRF.predict(X_train2)))\n",
    "print('test', classification_report(y_test2, modelRF.predict(X_test2)))"
   ]
  },
  {
   "cell_type": "markdown",
   "id": "ab75145a",
   "metadata": {},
   "source": [
    "В сравнении с моделью RandomForest (1) значения метрик полчились практически такие же."
   ]
  },
  {
   "cell_type": "markdown",
   "id": "f74f6cda",
   "metadata": {},
   "source": [
    "### GradientBoosting"
   ]
  },
  {
   "cell_type": "code",
   "execution_count": 30,
   "id": "4710ac6c",
   "metadata": {},
   "outputs": [
    {
     "data": {
      "text/plain": [
       "(0.8969072164948454, 0.7523809523809524)"
      ]
     },
     "execution_count": 30,
     "metadata": {},
     "output_type": "execute_result"
    }
   ],
   "source": [
    "from sklearn.ensemble import GradientBoostingClassifier\n",
    "modelAB = GradientBoostingClassifier(n_estimators=100, max_depth=2, max_features=3, random_state=23)\n",
    "modelAB.fit(X_train, y_train)\n",
    "modelAB.score(X_train, y_train), modelAB.score(X_test, y_test)"
   ]
  },
  {
   "cell_type": "markdown",
   "id": "4f8a4421",
   "metadata": {},
   "source": [
    "Модель сильно переобучена. Попробуем подобрать оптимальное количество деревьев в модели (параметр - n_estimators)"
   ]
  },
  {
   "cell_type": "code",
   "execution_count": 31,
   "id": "d5301626",
   "metadata": {},
   "outputs": [],
   "source": [
    "score = [metrics.accuracy_score(y_test, y_pred) for y_pred in modelAB.staged_predict(X_test)]"
   ]
  },
  {
   "cell_type": "code",
   "execution_count": 32,
   "id": "66fad727",
   "metadata": {},
   "outputs": [],
   "source": [
    "best_estimator = np.argmax(score)"
   ]
  },
  {
   "cell_type": "code",
   "execution_count": 33,
   "id": "cb9ca8a2",
   "metadata": {},
   "outputs": [
    {
     "data": {
      "text/plain": [
       "(0.7989690721649485, 0.7428571428571429)"
      ]
     },
     "execution_count": 33,
     "metadata": {},
     "output_type": "execute_result"
    }
   ],
   "source": [
    "modelAB2 = GradientBoostingClassifier(n_estimators=best_estimator, max_depth=2, max_features=3, random_state=24)\n",
    "modelAB2.fit(X_train, y_train)\n",
    "modelAB2.score(X_train, y_train), modelAB2.score(X_test, y_test)"
   ]
  },
  {
   "cell_type": "code",
   "execution_count": 36,
   "id": "7c209de9",
   "metadata": {},
   "outputs": [
    {
     "data": {
      "text/plain": [
       "17"
      ]
     },
     "execution_count": 36,
     "metadata": {},
     "output_type": "execute_result"
    }
   ],
   "source": [
    "best_estimator"
   ]
  },
  {
   "cell_type": "code",
   "execution_count": 37,
   "id": "96ca988f",
   "metadata": {},
   "outputs": [
    {
     "name": "stdout",
     "output_type": "stream",
     "text": [
      "train               precision    recall  f1-score   support\n",
      "\n",
      "           0       0.79      0.96      0.87       131\n",
      "           1       0.85      0.46      0.60        63\n",
      "\n",
      "    accuracy                           0.80       194\n",
      "   macro avg       0.82      0.71      0.73       194\n",
      "weighted avg       0.81      0.80      0.78       194\n",
      "\n",
      "test               precision    recall  f1-score   support\n",
      "\n",
      "           0       0.75      0.94      0.83        72\n",
      "           1       0.71      0.30      0.43        33\n",
      "\n",
      "    accuracy                           0.74       105\n",
      "   macro avg       0.73      0.62      0.63       105\n",
      "weighted avg       0.74      0.74      0.71       105\n",
      "\n"
     ]
    }
   ],
   "source": [
    "print('train', classification_report(y_train, modelAB2.predict(X_train)))\n",
    "print('test', classification_report(y_test, modelAB2.predict(X_test)))"
   ]
  },
  {
   "attachments": {
    "image.png": {
     "image/png": "[encoded data removed]"
    }
   },
   "cell_type": "markdown",
   "id": "3bfcdc12",
   "metadata": {},
   "source": [
    "RandomForest(1)\n",
    "\n",
    "![image.png](attachment:image.png)"
   ]
  },
  {
   "cell_type": "markdown",
   "id": "36371c67",
   "metadata": {},
   "source": [
    "Модель GradientBoosting показывает хороший результат на тренировочной выборке. Score такой же как у модели RandomForest(1), которую я выбрал в качестве итоговой для дальнейшего сравнения. Score на тестовой выборке у модели GBM ниже."
   ]
  },
  {
   "cell_type": "markdown",
   "id": "227e5992",
   "metadata": {},
   "source": [
    "Параметры precision, recall, f1-score на тестововой выборке в модели RandomForest(1) лучше чем в модели GradientBoosting. На тренирововчной выборке некоторые значения параметров модели GradientBoosting лучше. Больше точность. Но это различие не большое и не приходится говорить о том, что модель градиентного бустинга лучше.  "
   ]
  },
  {
   "cell_type": "markdown",
   "id": "bd1b87a6",
   "metadata": {},
   "source": [
    "В качестве итоговой модели для предсказания летального исхода пациента от сердечной недостаточости я выберу ансамблевую модель на основе алгоритма Random Forest."
   ]
  }
 ],
 "metadata": {
  "kernelspec": {
   "display_name": "Python 3 (ipykernel)",
   "language": "python",
   "name": "python3"
  },
  "language_info": {
   "codemirror_mode": {
    "name": "ipython",
    "version": 3
   },
   "file_extension": ".py",
   "mimetype": "text/x-python",
   "name": "python",
   "nbconvert_exporter": "python",
   "pygments_lexer": "ipython3",
   "version": "3.9.6"
  }
 },
 "nbformat": 4,
 "nbformat_minor": 5
}
